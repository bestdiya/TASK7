{
  "nbformat": 4,
  "nbformat_minor": 0,
  "metadata": {
    "colab": {
      "provenance": [],
      "authorship_tag": "ABX9TyMoUqjBEydpwPxHij8mV2Iu",
      "include_colab_link": true
    },
    "kernelspec": {
      "name": "python3",
      "display_name": "Python 3"
    },
    "language_info": {
      "name": "python"
    }
  },
  "cells": [
    {
      "cell_type": "markdown",
      "metadata": {
        "id": "view-in-github",
        "colab_type": "text"
      },
      "source": [
        "<a href=\"https://colab.research.google.com/github/bestdiya/TASK7/blob/main/TASK7.ipynb\" target=\"_parent\"><img src=\"https://colab.research.google.com/assets/colab-badge.svg\" alt=\"Open In Colab\"/></a>"
      ]
    },
    {
      "cell_type": "code",
      "execution_count": 1,
      "metadata": {
        "colab": {
          "base_uri": "https://localhost:8080/",
          "height": 574
        },
        "id": "9fA6T6XqpcvI",
        "outputId": "6b921355-6276-41ad-e688-6e023085f77b"
      },
      "outputs": [
        {
          "output_type": "stream",
          "name": "stdout",
          "text": [
            "=== Sales Summary ===\n",
            "  product  total_qty  revenue\n",
            "0   Apple         17      8.5\n",
            "1  Banana         15      3.0\n",
            "2  Orange         14      8.4\n"
          ]
        },
        {
          "output_type": "display_data",
          "data": {
            "text/plain": [
              "<Figure size 640x480 with 1 Axes>"
            ],
            "image/png": "[encoded data removed]"
          },
          "metadata": {}
        }
      ],
      "source": [
        "# Step 1: Import libraries\n",
        "import sqlite3\n",
        "import pandas as pd\n",
        "import matplotlib.pyplot as plt\n",
        "\n",
        "# Step 2: Connect to a SQLite database (file will be created in Colab environment)\n",
        "conn = sqlite3.connect(\"sales_data.db\")\n",
        "cursor = conn.cursor()\n",
        "\n",
        "# Step 3: Create a table\n",
        "cursor.execute(\"\"\"\n",
        "CREATE TABLE IF NOT EXISTS sales (\n",
        "    id INTEGER PRIMARY KEY,\n",
        "    product TEXT,\n",
        "    quantity INTEGER,\n",
        "    price REAL\n",
        ")\n",
        "\"\"\")\n",
        "\n",
        "# Step 4: Insert sample data (comment out after first run)\n",
        "sample_data = [\n",
        "    (\"Apple\", 10, 0.5),\n",
        "    (\"Banana\", 5, 0.2),\n",
        "    (\"Apple\", 7, 0.5),\n",
        "    (\"Orange\", 8, 0.6),\n",
        "    (\"Banana\", 10, 0.2),\n",
        "    (\"Orange\", 6, 0.6),\n",
        "]\n",
        "cursor.executemany(\"INSERT INTO sales (product, quantity, price) VALUES (?, ?, ?)\", sample_data)\n",
        "conn.commit()\n",
        "\n",
        "# Step 5: Query sales summary\n",
        "query = \"\"\"\n",
        "SELECT\n",
        "    product,\n",
        "    SUM(quantity) AS total_qty,\n",
        "    ROUND(SUM(quantity * price), 2) AS revenue\n",
        "FROM sales\n",
        "GROUP BY product\n",
        "\"\"\"\n",
        "\n",
        "df = pd.read_sql_query(query, conn)\n",
        "\n",
        "# Step 6: Display results\n",
        "print(\"=== Sales Summary ===\")\n",
        "print(df)\n",
        "\n",
        "# Step 7: Plot\n",
        "df.plot(kind='bar', x='product', y='revenue', legend=False, color='lightgreen')\n",
        "plt.title(\"Revenue by Product\")\n",
        "plt.ylabel(\"Revenue ($)\")\n",
        "plt.xlabel(\"Product\")\n",
        "plt.tight_layout()\n",
        "plt.show()\n",
        "\n",
        "# Step 8: Close connection\n",
        "conn.close()\n"
      ]
    },
    {
      "cell_type": "code",
      "source": [],
      "metadata": {
        "id": "PdIsc0A1qYBc"
      },
      "execution_count": null,
      "outputs": []
    }
  ]
}